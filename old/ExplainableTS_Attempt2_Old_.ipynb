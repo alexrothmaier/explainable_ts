{
 "cells": [
  {
   "cell_type": "markdown",
   "id": "8a249d33",
   "metadata": {},
   "source": []
  },
  {
   "cell_type": "code",
   "execution_count": 3,
   "id": "f946a0db",
   "metadata": {},
   "outputs": [],
   "source": [
    "import warnings\n",
    "warnings.filterwarnings('ignore')\n"
   ]
  },
  {
   "cell_type": "code",
   "execution_count": 24,
   "id": "00559a8b",
   "metadata": {},
   "outputs": [],
   "source": [
    "import pandas as pd\n",
    "import lightning.pytorch as pl\n",
    "\n",
    "import numpy as np\n",
    "import pandas as pd\n",
    "import torch\n",
    "\n",
    "from pytorch_forecasting import Baseline, TemporalFusionTransformer, TimeSeriesDataSet\n",
    "from pytorch_forecasting.data import GroupNormalizer\n",
    "from pytorch_forecasting.metrics import CrossEntropy\n",
    "\n",
    "import shap"
   ]
  },
  {
   "cell_type": "code",
   "execution_count": 25,
   "id": "babe81be",
   "metadata": {},
   "outputs": [
    {
     "data": {
      "text/plain": [
       "0          227368\n",
       "1          626053\n",
       "2          608569\n",
       "3          608569\n",
       "4          608569\n",
       "            ...  \n",
       "7005210    627200\n",
       "7005211    628998\n",
       "7005212    488527\n",
       "7005213    488527\n",
       "7005214    488527\n",
       "Name: user, Length: 7005215, dtype: int64"
      ]
     },
     "execution_count": 25,
     "metadata": {},
     "output_type": "execute_result"
    }
   ],
   "source": [
    "df"
   ]
  },
  {
   "cell_type": "code",
   "execution_count": 26,
   "id": "b7a4291f",
   "metadata": {},
   "outputs": [],
   "source": [
    "df = pd.read_csv(\"custom_df.csv\")\n",
    "df.rename(columns={\"clk\": \"click\"},inplace=True)\n",
    "df['age_level'] = df['age_level'].astype(str)"
   ]
  },
  {
   "cell_type": "code",
   "execution_count": 27,
   "id": "606812b1",
   "metadata": {},
   "outputs": [],
   "source": [
    "brand_mapping = {\n",
    "    98931: 'nike',\n",
    "    247789: 'adidas',\n",
    "    353787: 'puma',\n",
    "    342760: 'reebok',\n",
    "    82527: 'under armour',\n",
    "    234846: 'new balance',\n",
    "    143597: 'asics',\n",
    "    146115: 'converse',\n",
    "    454237: 'vans',\n",
    "    95766: 'fila'\n",
    "}\n",
    "df['brand'] = df['brand'].replace(brand_mapping)"
   ]
  },
  {
   "cell_type": "code",
   "execution_count": 28,
   "id": "11202ede",
   "metadata": {},
   "outputs": [
    {
     "data": {
      "text/plain": [
       "brand\n",
       "3.0             0.036204\n",
       "21.0            0.039232\n",
       "38.0            0.054968\n",
       "39.0            0.038718\n",
       "46.0            0.039769\n",
       "                  ...   \n",
       "nike            0.024489\n",
       "puma            0.043726\n",
       "reebok          0.046499\n",
       "under armour    0.070515\n",
       "vans            0.054479\n",
       "Name: click, Length: 2732, dtype: float64"
      ]
     },
     "execution_count": 28,
     "metadata": {},
     "output_type": "execute_result"
    }
   ],
   "source": [
    "# Wie oft wird welche Brand durchschnittlich geklickt?\n",
    "df.groupby('brand')['click'].mean()"
   ]
  },
  {
   "cell_type": "code",
   "execution_count": 29,
   "id": "7460f42b",
   "metadata": {},
   "outputs": [
    {
     "data": {
      "text/plain": [
       "<Axes: >"
      ]
     },
     "execution_count": 29,
     "metadata": {},
     "output_type": "execute_result"
    },
    {
     "data": {
      "image/png": "[encoded data removed]",
      "text/plain": [
       "<Figure size 640x480 with 1 Axes>"
      ]
     },
     "metadata": {},
     "output_type": "display_data"
    }
   ],
   "source": [
    "# Wie oft hat jeder User durchschnittlich geklickt?\n",
    "df.groupby('user')['click'].mean().hist(bins=10)"
   ]
  },
  {
   "cell_type": "code",
   "execution_count": 30,
   "id": "dac3b6a9",
   "metadata": {},
   "outputs": [
    {
     "data": {
      "text/plain": [
       "<Axes: >"
      ]
     },
     "execution_count": 30,
     "metadata": {},
     "output_type": "execute_result"
    },
    {
     "data": {
      "image/png": "[encoded data removed]",
      "text/plain": [
       "<Figure size 640x480 with 1 Axes>"
      ]
     },
     "metadata": {},
     "output_type": "display_data"
    }
   ],
   "source": [
    "df['user'].value_counts().hist(bins=10)"
   ]
  },
  {
   "cell_type": "markdown",
   "id": "d31ef8da",
   "metadata": {},
   "source": [
    "- Viele Zeitschritte zwischendrin fehlen\n",
    "- Wenn wir nur User mit 11 konsekutiven timesteps drin lassen, fliegen fast alle raus. Unrealistisches Szenario.\n",
    "- Setze allow_missing_timesteps = True in TimeSeriesDataset\n"
   ]
  },
  {
   "cell_type": "code",
   "execution_count": 31,
   "id": "2ccd24f1",
   "metadata": {},
   "outputs": [
    {
     "data": {
      "text/plain": [
       "7005215"
      ]
     },
     "execution_count": 31,
     "metadata": {},
     "output_type": "execute_result"
    }
   ],
   "source": [
    "len(df)"
   ]
  },
  {
   "cell_type": "code",
   "execution_count": 34,
   "id": "775b72de",
   "metadata": {},
   "outputs": [],
   "source": [
    "# Sonst akzeptiert pytorch_forecasting es nicht als kategorische Zielvariable\n",
    "df['click'] = df['click'].astype(str)\n",
    "df['brand'] = df['brand'].astype(str)"
   ]
  },
  {
   "cell_type": "code",
   "execution_count": 35,
   "id": "7fc3762d",
   "metadata": {},
   "outputs": [],
   "source": [
    "training = TimeSeriesDataSet(\n",
    "    df[lambda x: x.time_idx <= 10],\n",
    "    time_idx=\"time_idx\",\n",
    "    target=\"click\",\n",
    "    group_ids=[\"user\"],\n",
    "    \n",
    "    min_encoder_length=10,  # keep encoder length long (as it is in the validation set)\n",
    "    max_encoder_length=10,\n",
    "    min_prediction_length=1,\n",
    "    max_prediction_length=1,\n",
    "    \n",
    "    static_categoricals=[\"age_level\"],\n",
    "    time_varying_known_categoricals=[\"brand\"],\n",
    "    time_varying_known_reals=[\"time_idx\"],\n",
    "    time_varying_unknown_categoricals=[\"click\"],\n",
    "\n",
    "    add_relative_time_idx=True,\n",
    "    add_target_scales=True,\n",
    "    add_encoder_length=True,\n",
    "    \n",
    "    allow_missing_timesteps=True\n",
    ")"
   ]
  },
  {
   "cell_type": "markdown",
   "id": "69329353",
   "metadata": {},
   "source": [
    "**-> User Warning zeigt uns hier, dass 7647 Einträge entfernt werden würden, weil Sie sich nicht mit einer Länge von 10 encodieren lassen. Reduziere min_length auf 1**"
   ]
  },
  {
   "cell_type": "code",
   "execution_count": 36,
   "id": "77938f5a",
   "metadata": {},
   "outputs": [],
   "source": [
    "training = TimeSeriesDataSet(\n",
    "    df[lambda x: x.time_idx <= 10],\n",
    "    time_idx=\"time_idx\",\n",
    "    target=\"click\",\n",
    "    group_ids=[\"user\"],\n",
    "    \n",
    "    min_encoder_length=1,  # keep encoder length long (as it is in the validation set)\n",
    "    max_encoder_length=10,\n",
    "    min_prediction_length=1,\n",
    "    max_prediction_length=1,\n",
    "    \n",
    "    static_categoricals=[\"age_level\"],\n",
    "    time_varying_known_categoricals=[\"brand\"],\n",
    "    time_varying_known_reals=[\"time_idx\"],\n",
    "    time_varying_unknown_categoricals=[\"click\"],\n",
    "\n",
    "    add_relative_time_idx=True,\n",
    "    add_target_scales=True,\n",
    "    add_encoder_length=True,\n",
    "    \n",
    "    allow_missing_timesteps=True\n",
    ")"
   ]
  },
  {
   "cell_type": "code",
   "execution_count": 37,
   "id": "4d49801d",
   "metadata": {},
   "outputs": [
    {
     "name": "stdout",
     "output_type": "stream",
     "text": [
      "114104\n"
     ]
    }
   ],
   "source": [
    "user_counts = df['user'].value_counts()\n",
    "\n",
    "users_with_one_occurrence = user_counts[user_counts == 1]\n",
    "\n",
    "num_users_with_one_occurrence = len(users_with_one_occurrence)\n",
    "\n",
    "print(num_users_with_one_occurrence)\n"
   ]
  },
  {
   "cell_type": "markdown",
   "id": "c52fbe5e",
   "metadata": {},
   "source": [
    "**Es gibt also 3455 die nur 1 timestep haben, hier können wir gar nicht encodieren. pytorch_forecasting entfernt uns diese laut Warning direkt**"
   ]
  },
  {
   "cell_type": "markdown",
   "id": "861b5be9",
   "metadata": {},
   "source": [
    "### Trainiere TFT Modell"
   ]
  },
  {
   "cell_type": "code",
   "execution_count": 38,
   "id": "a6f8b7a5",
   "metadata": {},
   "outputs": [],
   "source": [
    "# create validation set (predict=True) which means to predict the last max_prediction_length points in time\n",
    "# for each series\n",
    "validation = TimeSeriesDataSet.from_dataset(training, df, predict=True, stop_randomization=True)\n",
    "\n",
    "# create dataloaders for model\n",
    "batch_size = 16  # set this between 32 to 128\n",
    "train_dataloader = training.to_dataloader(train=True, batch_size=batch_size)\n",
    "val_dataloader = validation.to_dataloader(train=False, batch_size=batch_size)"
   ]
  },
  {
   "cell_type": "code",
   "execution_count": 39,
   "id": "f6e7b6d5",
   "metadata": {},
   "outputs": [],
   "source": [
    "tft = TemporalFusionTransformer.from_dataset(\n",
    "    training,\n",
    "    # not meaningful for finding the learning rate but otherwise very important\n",
    "    learning_rate=0.03,\n",
    "    hidden_size=8,  # most important hyperparameter apart from learning rate\n",
    "    # number of attention heads. Set to up to 4 for large datasets\n",
    "    attention_head_size=1,\n",
    "    dropout=0.1,  # between 0.1 and 0.3 are good values\n",
    "    hidden_continuous_size=8,  # set to <= hidden_size\n",
    "    \n",
    "    \n",
    "    #TODO: Loss ändern\n",
    "    loss=CrossEntropy(),\n",
    "    optimizer=\"Ranger\"\n",
    "    # reduce learning rate if no improvement in validation loss after x epochs\n",
    "    # reduce_on_plateau_patience=1000,\n",
    ")"
   ]
  },
  {
   "cell_type": "code",
   "execution_count": 40,
   "id": "11f9019c",
   "metadata": {},
   "outputs": [
    {
     "name": "stderr",
     "output_type": "stream",
     "text": [
      "Global seed set to 42\n",
      "GPU available: False, used: False\n",
      "TPU available: False, using: 0 TPU cores\n",
      "IPU available: False, using: 0 IPUs\n",
      "HPU available: False, using: 0 HPUs\n"
     ]
    }
   ],
   "source": [
    "# configure network and trainer\n",
    "pl.seed_everything(42)\n",
    "trainer = pl.Trainer(\n",
    "    accelerator=\"cpu\",\n",
    "    gradient_clip_val=0.1,\n",
    "    max_epochs=1\n",
    ")"
   ]
  },
  {
   "cell_type": "code",
   "execution_count": 41,
   "id": "8f05a47c",
   "metadata": {},
   "outputs": [
    {
     "name": "stderr",
     "output_type": "stream",
     "text": [
      "\n",
      "   | Name                               | Type                            | Params\n",
      "----------------------------------------------------------------------------------------\n",
      "0  | loss                               | CrossEntropy                    | 0     \n",
      "1  | logging_metrics                    | ModuleList                      | 0     \n",
      "2  | input_embeddings                   | MultiEmbedding                  | 21.9 K\n",
      "3  | prescalers                         | ModuleDict                      | 48    \n",
      "4  | static_variable_selection          | VariableSelectionNetwork        | 400   \n",
      "5  | encoder_variable_selection         | VariableSelectionNetwork        | 904   \n",
      "6  | decoder_variable_selection         | VariableSelectionNetwork        | 814   \n",
      "7  | static_context_variable_selection  | GatedResidualNetwork            | 304   \n",
      "8  | static_context_initial_hidden_lstm | GatedResidualNetwork            | 304   \n",
      "9  | static_context_initial_cell_lstm   | GatedResidualNetwork            | 304   \n",
      "10 | static_context_enrichment          | GatedResidualNetwork            | 304   \n",
      "11 | lstm_encoder                       | LSTM                            | 576   \n",
      "12 | lstm_decoder                       | LSTM                            | 576   \n",
      "13 | post_lstm_gate_encoder             | GatedLinearUnit                 | 144   \n",
      "14 | post_lstm_add_norm_encoder         | AddNorm                         | 16    \n",
      "15 | static_enrichment                  | GatedResidualNetwork            | 368   \n",
      "16 | multihead_attn                     | InterpretableMultiHeadAttention | 280   \n",
      "17 | post_attn_gate_norm                | GateAddNorm                     | 160   \n",
      "18 | pos_wise_ff                        | GatedResidualNetwork            | 304   \n",
      "19 | pre_output_gate_norm               | GateAddNorm                     | 160   \n",
      "20 | output_layer                       | Linear                          | 18    \n",
      "----------------------------------------------------------------------------------------\n",
      "27.8 K    Trainable params\n",
      "0         Non-trainable params\n",
      "27.8 K    Total params\n",
      "0.111     Total estimated model params size (MB)\n",
      "2023-07-02 12:20:42.319628: I tensorflow/core/platform/cpu_feature_guard.cc:182] This TensorFlow binary is optimized to use available CPU instructions in performance-critical operations.\n",
      "To enable the following instructions: AVX2 AVX512F AVX512_VNNI FMA, in other operations, rebuild TensorFlow with the appropriate compiler flags.\n"
     ]
    },
    {
     "name": "stdout",
     "output_type": "stream",
     "text": [
      "Epoch 0:   2%| | 4614/304685 [02:20<2:32:15, 32.85it/s, v_num=1349, train_loss_s"
     ]
    }
   ],
   "source": [
    "# fit network\n",
    "trainer.fit(\n",
    "    tft,\n",
    "    train_dataloaders=train_dataloader,\n",
    "    val_dataloaders=val_dataloader,\n",
    ")"
   ]
  },
  {
   "cell_type": "markdown",
   "id": "801e3e9c",
   "metadata": {},
   "source": [
    "### Inferenz \n",
    "\n",
    "- wähle user=953596, da er 10 konsekutive timesteps hat\n",
    "- schreibe wrapper für tft in sklearn Schreibweise, damit shap library ihn annimmt."
   ]
  },
  {
   "cell_type": "code",
   "execution_count": 42,
   "id": "646e8705",
   "metadata": {},
   "outputs": [
    {
     "ename": "KeyboardInterrupt",
     "evalue": "",
     "output_type": "error",
     "traceback": [
      "\u001b[0;31m---------------------------------------------------------------------------\u001b[0m",
      "\u001b[0;31mKeyboardInterrupt\u001b[0m                         Traceback (most recent call last)",
      "Cell \u001b[0;32mIn[42], line 1\u001b[0m\n\u001b[0;32m----> 1\u001b[0m \u001b[43mdf\u001b[49m\u001b[43m[\u001b[49m\u001b[38;5;124;43m'\u001b[39;49m\u001b[38;5;124;43muser\u001b[39;49m\u001b[38;5;124;43m'\u001b[39;49m\u001b[43m]\u001b[49m\u001b[38;5;241;43m.\u001b[39;49m\u001b[43mvalue_counts\u001b[49m\u001b[43m(\u001b[49m\u001b[43m)\u001b[49m\u001b[38;5;241m.\u001b[39mhead(\u001b[38;5;241m1\u001b[39m)\n",
      "File \u001b[0;32m~/Desktop/Shap4TS/shapvenv/lib/python3.10/site-packages/pandas/core/base.py:1015\u001b[0m, in \u001b[0;36mIndexOpsMixin.value_counts\u001b[0;34m(self, normalize, sort, ascending, bins, dropna)\u001b[0m\n\u001b[1;32m    928\u001b[0m \u001b[38;5;129m@final\u001b[39m\n\u001b[1;32m    929\u001b[0m \u001b[38;5;28;01mdef\u001b[39;00m \u001b[38;5;21mvalue_counts\u001b[39m(\n\u001b[1;32m    930\u001b[0m     \u001b[38;5;28mself\u001b[39m,\n\u001b[0;32m   (...)\u001b[0m\n\u001b[1;32m    935\u001b[0m     dropna: \u001b[38;5;28mbool\u001b[39m \u001b[38;5;241m=\u001b[39m \u001b[38;5;28;01mTrue\u001b[39;00m,\n\u001b[1;32m    936\u001b[0m ) \u001b[38;5;241m-\u001b[39m\u001b[38;5;241m>\u001b[39m Series:\n\u001b[1;32m    937\u001b[0m \u001b[38;5;250m    \u001b[39m\u001b[38;5;124;03m\"\"\"\u001b[39;00m\n\u001b[1;32m    938\u001b[0m \u001b[38;5;124;03m    Return a Series containing counts of unique values.\u001b[39;00m\n\u001b[1;32m    939\u001b[0m \n\u001b[0;32m   (...)\u001b[0m\n\u001b[1;32m   1013\u001b[0m \u001b[38;5;124;03m    Name: count, dtype: int64\u001b[39;00m\n\u001b[1;32m   1014\u001b[0m \u001b[38;5;124;03m    \"\"\"\u001b[39;00m\n\u001b[0;32m-> 1015\u001b[0m     \u001b[38;5;28;01mreturn\u001b[39;00m \u001b[43malgorithms\u001b[49m\u001b[38;5;241;43m.\u001b[39;49m\u001b[43mvalue_counts\u001b[49m\u001b[43m(\u001b[49m\n\u001b[1;32m   1016\u001b[0m \u001b[43m        \u001b[49m\u001b[38;5;28;43mself\u001b[39;49m\u001b[43m,\u001b[49m\n\u001b[1;32m   1017\u001b[0m \u001b[43m        \u001b[49m\u001b[43msort\u001b[49m\u001b[38;5;241;43m=\u001b[39;49m\u001b[43msort\u001b[49m\u001b[43m,\u001b[49m\n\u001b[1;32m   1018\u001b[0m \u001b[43m        \u001b[49m\u001b[43mascending\u001b[49m\u001b[38;5;241;43m=\u001b[39;49m\u001b[43mascending\u001b[49m\u001b[43m,\u001b[49m\n\u001b[1;32m   1019\u001b[0m \u001b[43m        \u001b[49m\u001b[43mnormalize\u001b[49m\u001b[38;5;241;43m=\u001b[39;49m\u001b[43mnormalize\u001b[49m\u001b[43m,\u001b[49m\n\u001b[1;32m   1020\u001b[0m \u001b[43m        \u001b[49m\u001b[43mbins\u001b[49m\u001b[38;5;241;43m=\u001b[39;49m\u001b[43mbins\u001b[49m\u001b[43m,\u001b[49m\n\u001b[1;32m   1021\u001b[0m \u001b[43m        \u001b[49m\u001b[43mdropna\u001b[49m\u001b[38;5;241;43m=\u001b[39;49m\u001b[43mdropna\u001b[49m\u001b[43m,\u001b[49m\n\u001b[1;32m   1022\u001b[0m \u001b[43m    \u001b[49m\u001b[43m)\u001b[49m\n",
      "File \u001b[0;32m~/Desktop/Shap4TS/shapvenv/lib/python3.10/site-packages/pandas/core/algorithms.py:884\u001b[0m, in \u001b[0;36mvalue_counts\u001b[0;34m(values, sort, ascending, normalize, bins, dropna)\u001b[0m\n\u001b[1;32m    882\u001b[0m \u001b[38;5;28;01melse\u001b[39;00m:\n\u001b[1;32m    883\u001b[0m     values \u001b[38;5;241m=\u001b[39m _ensure_arraylike(values)\n\u001b[0;32m--> 884\u001b[0m     keys, counts \u001b[38;5;241m=\u001b[39m \u001b[43mvalue_counts_arraylike\u001b[49m\u001b[43m(\u001b[49m\u001b[43mvalues\u001b[49m\u001b[43m,\u001b[49m\u001b[43m \u001b[49m\u001b[43mdropna\u001b[49m\u001b[43m)\u001b[49m\n\u001b[1;32m    885\u001b[0m     \u001b[38;5;28;01mif\u001b[39;00m keys\u001b[38;5;241m.\u001b[39mdtype \u001b[38;5;241m==\u001b[39m np\u001b[38;5;241m.\u001b[39mfloat16:\n\u001b[1;32m    886\u001b[0m         keys \u001b[38;5;241m=\u001b[39m keys\u001b[38;5;241m.\u001b[39mastype(np\u001b[38;5;241m.\u001b[39mfloat32)\n",
      "File \u001b[0;32m~/Desktop/Shap4TS/shapvenv/lib/python3.10/site-packages/pandas/core/algorithms.py:925\u001b[0m, in \u001b[0;36mvalue_counts_arraylike\u001b[0;34m(values, dropna, mask)\u001b[0m\n\u001b[1;32m    922\u001b[0m original \u001b[38;5;241m=\u001b[39m values\n\u001b[1;32m    923\u001b[0m values \u001b[38;5;241m=\u001b[39m _ensure_data(values)\n\u001b[0;32m--> 925\u001b[0m keys, counts \u001b[38;5;241m=\u001b[39m \u001b[43mhtable\u001b[49m\u001b[38;5;241;43m.\u001b[39;49m\u001b[43mvalue_count\u001b[49m\u001b[43m(\u001b[49m\u001b[43mvalues\u001b[49m\u001b[43m,\u001b[49m\u001b[43m \u001b[49m\u001b[43mdropna\u001b[49m\u001b[43m,\u001b[49m\u001b[43m \u001b[49m\u001b[43mmask\u001b[49m\u001b[38;5;241;43m=\u001b[39;49m\u001b[43mmask\u001b[49m\u001b[43m)\u001b[49m\n\u001b[1;32m    927\u001b[0m \u001b[38;5;28;01mif\u001b[39;00m needs_i8_conversion(original\u001b[38;5;241m.\u001b[39mdtype):\n\u001b[1;32m    928\u001b[0m     \u001b[38;5;66;03m# datetime, timedelta, or period\u001b[39;00m\n\u001b[1;32m    930\u001b[0m     \u001b[38;5;28;01mif\u001b[39;00m dropna:\n",
      "\u001b[0;31mKeyboardInterrupt\u001b[0m: "
     ]
    }
   ],
   "source": [
    "df['user'].value_counts().head(1)"
   ]
  },
  {
   "cell_type": "code",
   "execution_count": 24,
   "id": "ab1b5c54",
   "metadata": {},
   "outputs": [],
   "source": [
    "df_test = df[df['user']==953596]"
   ]
  },
  {
   "cell_type": "code",
   "execution_count": 25,
   "id": "eacb65f9",
   "metadata": {},
   "outputs": [
    {
     "data": {
      "text/html": [
       "<div>\n",
       "<style scoped>\n",
       "    .dataframe tbody tr th:only-of-type {\n",
       "        vertical-align: middle;\n",
       "    }\n",
       "\n",
       "    .dataframe tbody tr th {\n",
       "        vertical-align: top;\n",
       "    }\n",
       "\n",
       "    .dataframe thead th {\n",
       "        text-align: right;\n",
       "    }\n",
       "</style>\n",
       "<table border=\"1\" class=\"dataframe\">\n",
       "  <thead>\n",
       "    <tr style=\"text-align: right;\">\n",
       "      <th></th>\n",
       "      <th>user</th>\n",
       "      <th>age_level</th>\n",
       "      <th>brand</th>\n",
       "      <th>click</th>\n",
       "      <th>time_stamp</th>\n",
       "      <th>time_idx</th>\n",
       "    </tr>\n",
       "  </thead>\n",
       "  <tbody>\n",
       "    <tr>\n",
       "      <th>15661</th>\n",
       "      <td>953596</td>\n",
       "      <td>5</td>\n",
       "      <td>nike</td>\n",
       "      <td>1</td>\n",
       "      <td>2017-05-06 03:44:20</td>\n",
       "      <td>0</td>\n",
       "    </tr>\n",
       "    <tr>\n",
       "      <th>15662</th>\n",
       "      <td>953596</td>\n",
       "      <td>5</td>\n",
       "      <td>nike</td>\n",
       "      <td>0</td>\n",
       "      <td>2017-05-06 03:44:20</td>\n",
       "      <td>1</td>\n",
       "    </tr>\n",
       "    <tr>\n",
       "      <th>15663</th>\n",
       "      <td>953596</td>\n",
       "      <td>5</td>\n",
       "      <td>nike</td>\n",
       "      <td>0</td>\n",
       "      <td>2017-05-07 11:37:46</td>\n",
       "      <td>2</td>\n",
       "    </tr>\n",
       "    <tr>\n",
       "      <th>15664</th>\n",
       "      <td>953596</td>\n",
       "      <td>5</td>\n",
       "      <td>nike</td>\n",
       "      <td>0</td>\n",
       "      <td>2017-05-07 11:37:46</td>\n",
       "      <td>3</td>\n",
       "    </tr>\n",
       "    <tr>\n",
       "      <th>15665</th>\n",
       "      <td>953596</td>\n",
       "      <td>5</td>\n",
       "      <td>nike</td>\n",
       "      <td>0</td>\n",
       "      <td>2017-05-07 11:37:46</td>\n",
       "      <td>4</td>\n",
       "    </tr>\n",
       "    <tr>\n",
       "      <th>15666</th>\n",
       "      <td>953596</td>\n",
       "      <td>5</td>\n",
       "      <td>nike</td>\n",
       "      <td>0</td>\n",
       "      <td>2017-05-08 12:40:24</td>\n",
       "      <td>5</td>\n",
       "    </tr>\n",
       "    <tr>\n",
       "      <th>15667</th>\n",
       "      <td>953596</td>\n",
       "      <td>5</td>\n",
       "      <td>nike</td>\n",
       "      <td>0</td>\n",
       "      <td>2017-05-08 12:40:24</td>\n",
       "      <td>6</td>\n",
       "    </tr>\n",
       "    <tr>\n",
       "      <th>15668</th>\n",
       "      <td>953596</td>\n",
       "      <td>5</td>\n",
       "      <td>nike</td>\n",
       "      <td>0</td>\n",
       "      <td>2017-05-08 12:40:24</td>\n",
       "      <td>7</td>\n",
       "    </tr>\n",
       "    <tr>\n",
       "      <th>15669</th>\n",
       "      <td>953596</td>\n",
       "      <td>5</td>\n",
       "      <td>nike</td>\n",
       "      <td>0</td>\n",
       "      <td>2017-05-13 05:41:13</td>\n",
       "      <td>8</td>\n",
       "    </tr>\n",
       "    <tr>\n",
       "      <th>15670</th>\n",
       "      <td>953596</td>\n",
       "      <td>5</td>\n",
       "      <td>nike</td>\n",
       "      <td>0</td>\n",
       "      <td>2017-05-13 05:41:13</td>\n",
       "      <td>9</td>\n",
       "    </tr>\n",
       "    <tr>\n",
       "      <th>15671</th>\n",
       "      <td>953596</td>\n",
       "      <td>5</td>\n",
       "      <td>nike</td>\n",
       "      <td>0</td>\n",
       "      <td>2017-05-13 05:41:13</td>\n",
       "      <td>10</td>\n",
       "    </tr>\n",
       "  </tbody>\n",
       "</table>\n",
       "</div>"
      ],
      "text/plain": [
       "         user age_level brand click           time_stamp  time_idx\n",
       "15661  953596         5  nike     1  2017-05-06 03:44:20         0\n",
       "15662  953596         5  nike     0  2017-05-06 03:44:20         1\n",
       "15663  953596         5  nike     0  2017-05-07 11:37:46         2\n",
       "15664  953596         5  nike     0  2017-05-07 11:37:46         3\n",
       "15665  953596         5  nike     0  2017-05-07 11:37:46         4\n",
       "15666  953596         5  nike     0  2017-05-08 12:40:24         5\n",
       "15667  953596         5  nike     0  2017-05-08 12:40:24         6\n",
       "15668  953596         5  nike     0  2017-05-08 12:40:24         7\n",
       "15669  953596         5  nike     0  2017-05-13 05:41:13         8\n",
       "15670  953596         5  nike     0  2017-05-13 05:41:13         9\n",
       "15671  953596         5  nike     0  2017-05-13 05:41:13        10"
      ]
     },
     "execution_count": 25,
     "metadata": {},
     "output_type": "execute_result"
    }
   ],
   "source": [
    "df_test"
   ]
  },
  {
   "cell_type": "code",
   "execution_count": 26,
   "id": "de86ab4c",
   "metadata": {},
   "outputs": [],
   "source": [
    "#Hilfsmethode um Code in Wrapper übersichtlich zu halten\n",
    "def get_tsds(df):\n",
    "    return TimeSeriesDataSet(\n",
    "    df[lambda x: x.time_idx <= 10],\n",
    "    time_idx=\"time_idx\",\n",
    "    target=\"click\",\n",
    "    group_ids=[\"user\"],\n",
    "    \n",
    "    min_encoder_length=0,  # keep encoder length long (as it is in the validation set)\n",
    "    max_encoder_length=10,\n",
    "    min_prediction_length=1,\n",
    "    max_prediction_length=1,\n",
    "    \n",
    "    static_categoricals=[\"age_level\"],\n",
    "    time_varying_known_categoricals=[\"brand\"],\n",
    "    time_varying_known_reals=[\"time_idx\"],\n",
    "    time_varying_unknown_categoricals=[\"click\"],\n",
    "\n",
    "    add_relative_time_idx=True,\n",
    "    add_target_scales=False,\n",
    "    add_encoder_length=True,\n",
    "    \n",
    "    allow_missing_timesteps=True,\n",
    "        \n",
    "        \n",
    "        \n",
    "    # WICHTIG!!!    \n",
    "    predict_mode=True\n",
    ")"
   ]
  },
  {
   "cell_type": "code",
   "execution_count": 61,
   "id": "6aed2af4",
   "metadata": {},
   "outputs": [],
   "source": [
    "class Custom_TFT():\n",
    "    \n",
    "    def __init__(self,tft,df):\n",
    "        self.tft = tft\n",
    "        self.columns = df.columns\n",
    "        self.dtypes = df.dtypes\n",
    "    \n",
    "    def fit(self):\n",
    "        pass\n",
    "    \n",
    "    \n",
    "    def predict(self, X_arr) -> np.ndarray:\n",
    "        \n",
    "        #print(type(df))\n",
    "        #print(df)\n",
    "        df = pd.DataFrame(X_arr,columns=self.columns).astype(self.dtypes)\n",
    "        print(\"***NEW CALL**\")\n",
    "        print(df)\n",
    "        tsds = get_tsds(df)\n",
    "        \n",
    "        \n",
    "        \n",
    "        preds = tft.predict(tsds, mode=\"raw\", return_x=False).prediction.flatten().numpy()\n",
    "        #TODO: überführe preds in ein numpy array\n",
    "        #return preds\n",
    "        return np.array([0,0,0,0,0,0,0,0,0,0,0])\n",
    "    \n",
    "    def predict_proba(self, df) -> np.ndarray:\n",
    "        #TODO: checke ob probabilities übereinstimmen mit prediction! -> passt\n",
    "        tsds = get_tsds(df)\n",
    "        probabilities = Softmax(dim=2)(tft.predict(tsds, mode=\"raw\", return_x=False).prediction).flatten().numpy()\n",
    "        return probabilities\n",
    "    \n"
   ]
  },
  {
   "cell_type": "code",
   "execution_count": 62,
   "id": "331f417d",
   "metadata": {},
   "outputs": [],
   "source": [
    "my_tft = Custom_TFT(tft.predict,df_test)\n"
   ]
  },
  {
   "cell_type": "code",
   "execution_count": 63,
   "id": "a1821fc0",
   "metadata": {},
   "outputs": [
    {
     "name": "stderr",
     "output_type": "stream",
     "text": [
      "GPU available: False, used: False\n",
      "TPU available: False, using: 0 TPU cores\n",
      "IPU available: False, using: 0 IPUs\n",
      "HPU available: False, using: 0 HPUs\n"
     ]
    },
    {
     "name": "stdout",
     "output_type": "stream",
     "text": [
      "***NEW CALL**\n",
      "      user age_level brand click           time_stamp  time_idx\n",
      "0   953596         5  nike     1  2017-05-06 03:44:20         0\n",
      "1   953596         5  nike     0  2017-05-06 03:44:20         1\n",
      "2   953596         5  nike     0  2017-05-07 11:37:46         2\n",
      "3   953596         5  nike     0  2017-05-07 11:37:46         3\n",
      "4   953596         5  nike     0  2017-05-07 11:37:46         4\n",
      "5   953596         5  nike     0  2017-05-08 12:40:24         5\n",
      "6   953596         5  nike     0  2017-05-08 12:40:24         6\n",
      "7   953596         5  nike     0  2017-05-08 12:40:24         7\n",
      "8   953596         5  nike     0  2017-05-13 05:41:13         8\n",
      "9   953596         5  nike     0  2017-05-13 05:41:13         9\n",
      "10  953596         5  nike     0  2017-05-13 05:41:13        10\n"
     ]
    },
    {
     "name": "stderr",
     "output_type": "stream",
     "text": [
      "The dataloader, predict_dataloader, does not have many workers which may be a bottleneck. Consider increasing the value of the `num_workers` argument` (try 8 which is the number of cpus on this machine) in the `DataLoader` init to improve performance.\n"
     ]
    }
   ],
   "source": [
    "explainer = shap.KernelExplainer(my_tft.predict,df_test)"
   ]
  },
  {
   "cell_type": "markdown",
   "id": "4e6086b5",
   "metadata": {},
   "source": [
    "**Erklärungen**\n",
    "- shap.KernelExplainer ändert uns den Input von einem pd.Dataframe automatisch auf ein np.array was dann bei predict() ankommt.\n",
    "- TimeSeriesDataset kann nur aus pd.Dataframe erzeugt werden.\n",
    "- unschöner workaround: erzeuge aus dem np.array wieder einen pd.Dataframe indem die columns und dtypes abgespeichert werden  \n",
    "\n",
    "  \n",
    "- tft.predict() liefert 2 probabilities zurück, da es für den letzten timestep predicted und wir 2 Klassen haben.\n",
    "- shap erwartet aber für jede Zeile einen Wert zurück.\n",
    "\n",
    "- workaround um einfach zu testen, wie shap weiter funktioniert -> gebe ein np.array der selben Länge zurück\n",
    "\n",
    "- explainer.shap_values(df_test) erzeugt neuen Dataframe der viel länger ist, da er eine Zeile immer als ein Sample sieht und neue erzeugt. Er ändert dabei auch time_stamp und time_idx. Unsere predict Methode kann dann auf einen solchen DF nicht mehr angewandt werden. \n",
    "\n",
    "\n",
    "**Hauptproblem**: Mismatch, dass im TimeSeriesDataset ein sample 10 Reihen zum encoden und 1 Reihe zum predicten bedeutet und bei Shap bedeutet ein sample eine Reihe.\n"
   ]
  },
  {
   "cell_type": "code",
   "execution_count": 64,
   "id": "e5d3a497",
   "metadata": {},
   "outputs": [
    {
     "name": "stderr",
     "output_type": "stream",
     "text": [
      "\n",
      "  0%|                                                    | 0/11 [00:00<?, ?it/s]\u001b[AGPU available: False, used: False\n",
      "TPU available: False, using: 0 TPU cores\n",
      "IPU available: False, using: 0 IPUs\n",
      "HPU available: False, using: 0 HPUs\n",
      "The dataloader, predict_dataloader, does not have many workers which may be a bottleneck. Consider increasing the value of the `num_workers` argument` (try 8 which is the number of cpus on this machine) in the `DataLoader` init to improve performance.\n",
      "GPU available: False, used: False\n",
      "TPU available: False, using: 0 TPU cores\n",
      "IPU available: False, using: 0 IPUs\n",
      "HPU available: False, using: 0 HPUs\n"
     ]
    },
    {
     "name": "stdout",
     "output_type": "stream",
     "text": [
      "***NEW CALL**\n",
      "     user age_level brand click           time_stamp  time_idx\n",
      "0  953596         5  nike     1  2017-05-06 03:44:20         0\n",
      "***NEW CALL**\n",
      "      user age_level brand click           time_stamp  time_idx\n",
      "0   953596         5  nike     1  2017-05-06 03:44:20         0\n",
      "1   953596         5  nike     1  2017-05-06 03:44:20         1\n",
      "2   953596         5  nike     1  2017-05-07 11:37:46         2\n",
      "3   953596         5  nike     1  2017-05-07 11:37:46         3\n",
      "4   953596         5  nike     1  2017-05-07 11:37:46         4\n",
      "..     ...       ...   ...   ...                  ...       ...\n",
      "61  953596         5  nike     1  2017-05-06 03:44:20         6\n",
      "62  953596         5  nike     1  2017-05-06 03:44:20         7\n",
      "63  953596         5  nike     1  2017-05-06 03:44:20         8\n",
      "64  953596         5  nike     1  2017-05-06 03:44:20         9\n",
      "65  953596         5  nike     1  2017-05-06 03:44:20        10\n",
      "\n",
      "[66 rows x 6 columns]\n"
     ]
    },
    {
     "name": "stderr",
     "output_type": "stream",
     "text": [
      "The dataloader, predict_dataloader, does not have many workers which may be a bottleneck. Consider increasing the value of the `num_workers` argument` (try 8 which is the number of cpus on this machine) in the `DataLoader` init to improve performance.\n",
      "  0%|                                                    | 0/11 [00:00<?, ?it/s]\n"
     ]
    },
    {
     "ename": "ValueError",
     "evalue": "cannot reshape array of size 11 into shape (66,1)",
     "output_type": "error",
     "traceback": [
      "\u001b[0;31m---------------------------------------------------------------------------\u001b[0m",
      "\u001b[0;31mValueError\u001b[0m                                Traceback (most recent call last)",
      "Cell \u001b[0;32mIn[64], line 1\u001b[0m\n\u001b[0;32m----> 1\u001b[0m \u001b[43mexplainer\u001b[49m\u001b[38;5;241;43m.\u001b[39;49m\u001b[43mshap_values\u001b[49m\u001b[43m(\u001b[49m\u001b[43mdf_test\u001b[49m\u001b[43m)\u001b[49m\n",
      "File \u001b[0;32m~/Desktop/Shap4TS/shapvenv/lib/python3.10/site-packages/shap/explainers/_kernel.py:190\u001b[0m, in \u001b[0;36mKernel.shap_values\u001b[0;34m(self, X, **kwargs)\u001b[0m\n\u001b[1;32m    188\u001b[0m \u001b[38;5;28;01mif\u001b[39;00m \u001b[38;5;28mself\u001b[39m\u001b[38;5;241m.\u001b[39mkeep_index:\n\u001b[1;32m    189\u001b[0m     data \u001b[38;5;241m=\u001b[39m convert_to_instance_with_index(data, column_name, index_value[i:i \u001b[38;5;241m+\u001b[39m \u001b[38;5;241m1\u001b[39m], index_name)\n\u001b[0;32m--> 190\u001b[0m explanations\u001b[38;5;241m.\u001b[39mappend(\u001b[38;5;28;43mself\u001b[39;49m\u001b[38;5;241;43m.\u001b[39;49m\u001b[43mexplain\u001b[49m\u001b[43m(\u001b[49m\u001b[43mdata\u001b[49m\u001b[43m,\u001b[49m\u001b[43m \u001b[49m\u001b[38;5;241;43m*\u001b[39;49m\u001b[38;5;241;43m*\u001b[39;49m\u001b[43mkwargs\u001b[49m\u001b[43m)\u001b[49m)\n\u001b[1;32m    191\u001b[0m \u001b[38;5;28;01mif\u001b[39;00m kwargs\u001b[38;5;241m.\u001b[39mget(\u001b[38;5;124m\"\u001b[39m\u001b[38;5;124mgc_collect\u001b[39m\u001b[38;5;124m\"\u001b[39m, \u001b[38;5;28;01mFalse\u001b[39;00m):\n\u001b[1;32m    192\u001b[0m     gc\u001b[38;5;241m.\u001b[39mcollect()\n",
      "File \u001b[0;32m~/Desktop/Shap4TS/shapvenv/lib/python3.10/site-packages/shap/explainers/_kernel.py:382\u001b[0m, in \u001b[0;36mKernel.explain\u001b[0;34m(self, incoming_instance, **kwargs)\u001b[0m\n\u001b[1;32m    379\u001b[0m     \u001b[38;5;28mself\u001b[39m\u001b[38;5;241m.\u001b[39mkernelWeights[nfixed_samples:] \u001b[38;5;241m*\u001b[39m\u001b[38;5;241m=\u001b[39m weight_left \u001b[38;5;241m/\u001b[39m \u001b[38;5;28mself\u001b[39m\u001b[38;5;241m.\u001b[39mkernelWeights[nfixed_samples:]\u001b[38;5;241m.\u001b[39msum()\n\u001b[1;32m    381\u001b[0m \u001b[38;5;66;03m# execute the model on the synthetic samples we have created\u001b[39;00m\n\u001b[0;32m--> 382\u001b[0m \u001b[38;5;28;43mself\u001b[39;49m\u001b[38;5;241;43m.\u001b[39;49m\u001b[43mrun\u001b[49m\u001b[43m(\u001b[49m\u001b[43m)\u001b[49m\n\u001b[1;32m    384\u001b[0m \u001b[38;5;66;03m# solve then expand the feature importance (Shapley value) vector to contain the non-varying features\u001b[39;00m\n\u001b[1;32m    385\u001b[0m phi \u001b[38;5;241m=\u001b[39m np\u001b[38;5;241m.\u001b[39mzeros((\u001b[38;5;28mself\u001b[39m\u001b[38;5;241m.\u001b[39mdata\u001b[38;5;241m.\u001b[39mgroups_size, \u001b[38;5;28mself\u001b[39m\u001b[38;5;241m.\u001b[39mD))\n",
      "File \u001b[0;32m~/Desktop/Shap4TS/shapvenv/lib/python3.10/site-packages/shap/explainers/_kernel.py:524\u001b[0m, in \u001b[0;36mKernel.run\u001b[0;34m(self)\u001b[0m\n\u001b[1;32m    522\u001b[0m \u001b[38;5;28;01mif\u001b[39;00m \u001b[38;5;28misinstance\u001b[39m(modelOut, (pd\u001b[38;5;241m.\u001b[39mDataFrame, pd\u001b[38;5;241m.\u001b[39mSeries)):\n\u001b[1;32m    523\u001b[0m     modelOut \u001b[38;5;241m=\u001b[39m modelOut\u001b[38;5;241m.\u001b[39mvalues\n\u001b[0;32m--> 524\u001b[0m \u001b[38;5;28mself\u001b[39m\u001b[38;5;241m.\u001b[39my[\u001b[38;5;28mself\u001b[39m\u001b[38;5;241m.\u001b[39mnsamplesRun \u001b[38;5;241m*\u001b[39m \u001b[38;5;28mself\u001b[39m\u001b[38;5;241m.\u001b[39mN:\u001b[38;5;28mself\u001b[39m\u001b[38;5;241m.\u001b[39mnsamplesAdded \u001b[38;5;241m*\u001b[39m \u001b[38;5;28mself\u001b[39m\u001b[38;5;241m.\u001b[39mN, :] \u001b[38;5;241m=\u001b[39m \u001b[43mnp\u001b[49m\u001b[38;5;241;43m.\u001b[39;49m\u001b[43mreshape\u001b[49m\u001b[43m(\u001b[49m\u001b[43mmodelOut\u001b[49m\u001b[43m,\u001b[49m\u001b[43m \u001b[49m\u001b[43m(\u001b[49m\u001b[43mnum_to_run\u001b[49m\u001b[43m,\u001b[49m\u001b[43m \u001b[49m\u001b[38;5;28;43mself\u001b[39;49m\u001b[38;5;241;43m.\u001b[39;49m\u001b[43mD\u001b[49m\u001b[43m)\u001b[49m\u001b[43m)\u001b[49m\n\u001b[1;32m    526\u001b[0m \u001b[38;5;66;03m# find the expected value of each output\u001b[39;00m\n\u001b[1;32m    527\u001b[0m \u001b[38;5;28;01mfor\u001b[39;00m i \u001b[38;5;129;01min\u001b[39;00m \u001b[38;5;28mrange\u001b[39m(\u001b[38;5;28mself\u001b[39m\u001b[38;5;241m.\u001b[39mnsamplesRun, \u001b[38;5;28mself\u001b[39m\u001b[38;5;241m.\u001b[39mnsamplesAdded):\n",
      "File \u001b[0;32m<__array_function__ internals>:180\u001b[0m, in \u001b[0;36mreshape\u001b[0;34m(*args, **kwargs)\u001b[0m\n",
      "File \u001b[0;32m~/Desktop/Shap4TS/shapvenv/lib/python3.10/site-packages/numpy/core/fromnumeric.py:298\u001b[0m, in \u001b[0;36mreshape\u001b[0;34m(a, newshape, order)\u001b[0m\n\u001b[1;32m    198\u001b[0m \u001b[38;5;129m@array_function_dispatch\u001b[39m(_reshape_dispatcher)\n\u001b[1;32m    199\u001b[0m \u001b[38;5;28;01mdef\u001b[39;00m \u001b[38;5;21mreshape\u001b[39m(a, newshape, order\u001b[38;5;241m=\u001b[39m\u001b[38;5;124m'\u001b[39m\u001b[38;5;124mC\u001b[39m\u001b[38;5;124m'\u001b[39m):\n\u001b[1;32m    200\u001b[0m \u001b[38;5;250m    \u001b[39m\u001b[38;5;124;03m\"\"\"\u001b[39;00m\n\u001b[1;32m    201\u001b[0m \u001b[38;5;124;03m    Gives a new shape to an array without changing its data.\u001b[39;00m\n\u001b[1;32m    202\u001b[0m \n\u001b[0;32m   (...)\u001b[0m\n\u001b[1;32m    296\u001b[0m \u001b[38;5;124;03m           [5, 6]])\u001b[39;00m\n\u001b[1;32m    297\u001b[0m \u001b[38;5;124;03m    \"\"\"\u001b[39;00m\n\u001b[0;32m--> 298\u001b[0m     \u001b[38;5;28;01mreturn\u001b[39;00m \u001b[43m_wrapfunc\u001b[49m\u001b[43m(\u001b[49m\u001b[43ma\u001b[49m\u001b[43m,\u001b[49m\u001b[43m \u001b[49m\u001b[38;5;124;43m'\u001b[39;49m\u001b[38;5;124;43mreshape\u001b[39;49m\u001b[38;5;124;43m'\u001b[39;49m\u001b[43m,\u001b[49m\u001b[43m \u001b[49m\u001b[43mnewshape\u001b[49m\u001b[43m,\u001b[49m\u001b[43m \u001b[49m\u001b[43morder\u001b[49m\u001b[38;5;241;43m=\u001b[39;49m\u001b[43morder\u001b[49m\u001b[43m)\u001b[49m\n",
      "File \u001b[0;32m~/Desktop/Shap4TS/shapvenv/lib/python3.10/site-packages/numpy/core/fromnumeric.py:57\u001b[0m, in \u001b[0;36m_wrapfunc\u001b[0;34m(obj, method, *args, **kwds)\u001b[0m\n\u001b[1;32m     54\u001b[0m     \u001b[38;5;28;01mreturn\u001b[39;00m _wrapit(obj, method, \u001b[38;5;241m*\u001b[39margs, \u001b[38;5;241m*\u001b[39m\u001b[38;5;241m*\u001b[39mkwds)\n\u001b[1;32m     56\u001b[0m \u001b[38;5;28;01mtry\u001b[39;00m:\n\u001b[0;32m---> 57\u001b[0m     \u001b[38;5;28;01mreturn\u001b[39;00m \u001b[43mbound\u001b[49m\u001b[43m(\u001b[49m\u001b[38;5;241;43m*\u001b[39;49m\u001b[43margs\u001b[49m\u001b[43m,\u001b[49m\u001b[43m \u001b[49m\u001b[38;5;241;43m*\u001b[39;49m\u001b[38;5;241;43m*\u001b[39;49m\u001b[43mkwds\u001b[49m\u001b[43m)\u001b[49m\n\u001b[1;32m     58\u001b[0m \u001b[38;5;28;01mexcept\u001b[39;00m \u001b[38;5;167;01mTypeError\u001b[39;00m:\n\u001b[1;32m     59\u001b[0m     \u001b[38;5;66;03m# A TypeError occurs if the object does have such a method in its\u001b[39;00m\n\u001b[1;32m     60\u001b[0m     \u001b[38;5;66;03m# class, but its signature is not identical to that of NumPy's. This\u001b[39;00m\n\u001b[0;32m   (...)\u001b[0m\n\u001b[1;32m     64\u001b[0m     \u001b[38;5;66;03m# Call _wrapit from within the except clause to ensure a potential\u001b[39;00m\n\u001b[1;32m     65\u001b[0m     \u001b[38;5;66;03m# exception has a traceback chain.\u001b[39;00m\n\u001b[1;32m     66\u001b[0m     \u001b[38;5;28;01mreturn\u001b[39;00m _wrapit(obj, method, \u001b[38;5;241m*\u001b[39margs, \u001b[38;5;241m*\u001b[39m\u001b[38;5;241m*\u001b[39mkwds)\n",
      "\u001b[0;31mValueError\u001b[0m: cannot reshape array of size 11 into shape (66,1)"
     ]
    }
   ],
   "source": [
    "explainer.shap_values(df_test)"
   ]
  },
  {
   "cell_type": "code",
   "execution_count": null,
   "id": "c7a1784d",
   "metadata": {},
   "outputs": [],
   "source": []
  },
  {
   "cell_type": "code",
   "execution_count": null,
   "id": "2fc1c9ef",
   "metadata": {},
   "outputs": [],
   "source": []
  },
  {
   "cell_type": "code",
   "execution_count": null,
   "id": "dcb8b440",
   "metadata": {},
   "outputs": [],
   "source": []
  }
 ],
 "metadata": {
  "kernelspec": {
   "display_name": "shapvenv",
   "language": "python",
   "name": "shapvenv"
  },
  "language_info": {
   "codemirror_mode": {
    "name": "ipython",
    "version": 3
   },
   "file_extension": ".py",
   "mimetype": "text/x-python",
   "name": "python",
   "nbconvert_exporter": "python",
   "pygments_lexer": "ipython3",
   "version": "3.10.2"
  }
 },
 "nbformat": 4,
 "nbformat_minor": 5
}
